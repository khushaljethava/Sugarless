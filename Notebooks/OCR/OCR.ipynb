{
 "cells": [
  {
   "cell_type": "code",
   "execution_count": 3,
   "metadata": {},
   "outputs": [],
   "source": [
    "import requests\n",
    "import pdfplumber\n",
    "import matplotlib.pyplot as plt"
   ]
  },
  {
   "cell_type": "code",
   "execution_count": 4,
   "metadata": {},
   "outputs": [],
   "source": [
    "invoice = 'a6.pdf'"
   ]
  },
  {
   "cell_type": "code",
   "execution_count": 6,
   "metadata": {},
   "outputs": [
    {
     "ename": "AttributeError",
     "evalue": "'str' object has no attribute 'show'",
     "output_type": "error",
     "traceback": [
      "\u001b[0;31m---------------------------------------------------------------------------\u001b[0m",
      "\u001b[0;31mAttributeError\u001b[0m                            Traceback (most recent call last)",
      "\u001b[0;32m<ipython-input-6-f4a73ac9ec63>\u001b[0m in \u001b[0;36m<module>\u001b[0;34m\u001b[0m\n\u001b[0;32m----> 1\u001b[0;31m \u001b[0minvoice\u001b[0m\u001b[0;34m.\u001b[0m\u001b[0mshow\u001b[0m\u001b[0;34m(\u001b[0m\u001b[0;34m)\u001b[0m\u001b[0;34m\u001b[0m\u001b[0;34m\u001b[0m\u001b[0m\n\u001b[0m",
      "\u001b[0;31mAttributeError\u001b[0m: 'str' object has no attribute 'show'"
     ]
    }
   ],
   "source": [
    "invoice.show()"
   ]
  },
  {
   "cell_type": "code",
   "execution_count": 90,
   "metadata": {},
   "outputs": [],
   "source": [
    "\n",
    "with pdfplumber.open(invoice) as pdf:\n",
    "        \n",
    "        page= pdf.pages[1]\n",
    "        text1 = page.extract_text()\n",
    "        "
   ]
  },
  {
   "cell_type": "code",
   "execution_count": 135,
   "metadata": {},
   "outputs": [
    {
     "name": "stdout",
     "output_type": "stream",
     "text": [
      "<class 'str'>\n"
     ]
    }
   ],
   "source": [
    "print(type(text1))"
   ]
  },
  {
   "cell_type": "code",
   "execution_count": 92,
   "metadata": {
    "scrolled": true
   },
   "outputs": [
    {
     "name": "stdout",
     "output_type": "stream",
     "text": [
      "PROCESSED AT :\n",
      "Thyrocare\n",
      "D-37/1,TTC MIDC,Turbhe,\n",
      "Navi Mumbai-400 703\n",
      "NAME   : MR SRIKANTH (38Y/M) SAMPLE COLLECTED AT   :\n",
      "(5311169953),PRABHU CLINICAL \n",
      "REF. BY : SELF\n",
      "LABORATORY,DR.YEKKALA RAMAKRISHNA \n",
      "TEST ASKED : HBA,HEMOGRAM - 6 PART (DIFF) HOSPITAL RAMARAOPETA NARSIPATNAM \n",
      "531116,531116\n",
      "TEST NAME VALUE UNITS REFERENCE RANGE\n",
      "TOTAL LEUCOCYTES COUNT  6.4 X 10³ / µL 4.0-10.0\n",
      "NEUTROPHILS  49.7 % 40-80\n",
      "LYMPHOCYTE PERCENTAGE  42.8 % 20-40\n",
      "MONOCYTES  2.3 % 0-10\n",
      "EOSINOPHILS  4.7 % 0.0-6.0\n",
      "BASOPHILS  0.2 % <2\n",
      "IMMATURE GRANULOCYTE PERCENTAGE(IG%)  0.3 % 0-0.5\n",
      "NEUTROPHILS - ABSOLUTE COUNT  3.18 X 10³ / µL 2.0-7.0\n",
      "LYMPHOCYTES - ABSOLUTE COUNT  2.74 X 10³ / µL 1.0-3.0\n",
      "MONOCYTES - ABSOLUTE COUNT  0.15 X 10³ / µL 0.2-1\n",
      "BASOPHILS - ABSOLUTE COUNT  0.01 X 10³ / µL 0-0.1\n",
      "EOSINOPHILS - ABSOLUTE COUNT  0.3 X 10³ / µL 0-0.5\n",
      "IMMATURE GRANULOCYTES(IG)  0.02 X 10³ / µL 0-0.3\n",
      "TOTAL RBC  6.13 X 10^6/µL 4.5-5.5\n",
      "NUCLEATED RED BLOOD CELLS Nil X 10³ / µL <0.01\n",
      "NUCLEATED RED BLOOD CELLS % Nil % <0.01\n",
      "HEMOGLOBIN  18.1 g/dL 13-17\n",
      "HEMATOCRIT(PCV)  50.68 % 40-50\n",
      "MEAN CORPUSCULAR VOLUME(MCV)  100.2 fL 83-101\n",
      "MEAN CORPUSCULAR HEMOGLOBIN(MCH)  29.5 pq 27-32\n",
      "MEAN CORP.HEMO.CONC(MCHC)  29.5 g/dL 31.5-34.5\n",
      "RED CELL DISTRIBUTION WIDTH - SD(RDW-SD)  62.9 fL 39-46\n",
      "RED CELL DISTRIBUTION WIDTH (RDW-CV)  17.6 % 11.6-14\n",
      "PLATELET DISTRIBUTION WIDTH(PDW)  11.1 fL 9.6-15.2\n",
      "MEAN PLATELET VOLUME(MPV)  9.4 fL 6.5-12\n",
      "PLATELET COUNT  222 X 10³ / µL 150-400\n",
      "PLATELET TO LARGE CELL RATIO(PLCR)  20.5 % 19.7-42.4\n",
      "PLATELETCRIT(PCT)  0.21 % 0.19-0.39\n",
      "Remarks :  ALERT !!! Anisocytosis\n",
      "Please Correlate with clinical conditions.\n",
      "Method : Fully automated bidirectional analyser (6 Part Differential SYSMEX XN-1000)\n",
      "(This device performs hematology analyses according to the Hydrodynamic Focussing (DC method), Flow \n",
      "Cytometry Method (using a semiconductor laser), and SLS- hemoglobin method)\n",
      "Sample Collected on (SCT) :26 Aug 2019 18:00\n",
      "Sample Received on (SRT) :27 Aug 2019 22:50\n",
      "Report  Released on (RRT) :28 Aug 2019 08:25\n",
      "Sample Type : EDTA\n",
      "Dr.Prachi Sinkar MD(Path) Dr.Caesar Sengupta MD(Micro)\n",
      "Labcode : 2708040370/A6750\n",
      "Page : 2 of 9\n",
      "Barcode : M9261080\n"
     ]
    }
   ],
   "source": [
    "print(text1)"
   ]
  },
  {
   "cell_type": "code",
   "execution_count": 40,
   "metadata": {},
   "outputs": [],
   "source": [
    "for row in text.split('\\n'):\n",
    "    if row.startswith(\"TOTAL LEUCOCYTES COUNT \"):\n",
    "        total = row.split()\n",
    "        total = total[0:4]\n",
    "        total[0] = total[0] + total[1] +total[2]\n",
    "    if row.startswith(\"NEUTROPHILS\"):\n",
    "        NEUTROPHILS = row.split()"
   ]
  },
  {
   "cell_type": "code",
   "execution_count": 41,
   "metadata": {},
   "outputs": [
    {
     "data": {
      "text/plain": [
       "['TOTALLEUCOCYTESCOUNT', 'LEUCOCYTES', 'COUNT', '6.4']"
      ]
     },
     "execution_count": 41,
     "metadata": {},
     "output_type": "execute_result"
    }
   ],
   "source": [
    "total[0 : 4 ]"
   ]
  },
  {
   "cell_type": "code",
   "execution_count": 42,
   "metadata": {},
   "outputs": [
    {
     "name": "stdout",
     "output_type": "stream",
     "text": [
      "['TOTALLEUCOCYTESCOUNT', 'LEUCOCYTES', 'COUNT', '6.4']\n"
     ]
    }
   ],
   "source": [
    "print(total[0:4])"
   ]
  },
  {
   "cell_type": "code",
   "execution_count": 32,
   "metadata": {},
   "outputs": [
    {
     "name": "stdout",
     "output_type": "stream",
     "text": [
      "['NEUTROPHILS', '-', 'ABSOLUTE', 'COUNT', '3.18', 'X', '10³', '/', 'µL', '2.0-7.0']\n"
     ]
    }
   ],
   "source": [
    "print(NEUTROPHILS)"
   ]
  },
  {
   "cell_type": "code",
   "execution_count": null,
   "metadata": {},
   "outputs": [],
   "source": [
    "\n"
   ]
  },
  {
   "cell_type": "code",
   "execution_count": 58,
   "metadata": {},
   "outputs": [
    {
     "name": "stdout",
     "output_type": "stream",
     "text": [
      "9\n",
      "CONDITIONS OF REPORTING vThe reported results are for information and interpretation of the referring doctor only. v It is presumed that the tests performed on the specimen belong to the patient; named or identified. v Results of tests may vary from laboratory to laboratory and also in some parameters from time to time for the same patient. v Should the results indicate an unexpected abnormality, the same should be reconfirmed. v Only such medical professionals who understand reporting units, reference ranges and limitations of technologies should interpret results. v This report is not valid for medico-legal purpose. v Neither Thyrocare, nor its employees/representatives assume any liability, responsibility for any loss or damage that may be incurred  by any person as a result of presuming the meaning or contents of the report.  v Majority of the specimen processed in the laboratory are collected by Pathologists and Hospitals we call them  as \"Clients\". v Name - The name is as declared by the client and recored by the personnel who collected the specimen. v Ref.Dr - The name of the doctor who has recommended testing as declared by the client. v Labcode - This is the accession number in our laboratory and it helps us in archiving and retrieving the data. v Barcode - This is the specimen identity number and it states that the results are for the specimen bearing  the barcode (irrespective  of the name). v SCP - Specimen Collection Point - This is the location where the blood or specimen was collected as declared by  the client. v SCT - Specimen Collection Time - The time when specimen was collected as declared by the client. v SRT - Specimen Receiving Time - This time when the specimen reached our laboratory. v RRT - Report Releasing Time - The time when our pathologist has released the values for Reporting. v Reference Range - Means the range of values in which 95% of the normal population would fall. EXPLANATIONS SUGGESTIONS       v Values out of reference range requires reconfirmation before starting any medical treatment. v Retesting is needed if you suspect any quality shortcomings. v Testing or retesting should be done in accredited laboratories. v For suggestions, complaints or feedback, write to us at info@thyrocare.com or call us on   022-3090 0000 / 4125 2525 v SMS:<Labcode No.> to 9870666333Page : 9 of 9\n"
     ]
    }
   ],
   "source": [
    "import PyPDF2\n",
    "\n",
    "pdfFileObj = open('a6.pdf', 'rb')\n",
    "pdfReader = PyPDF2.PdfFileReader(pdfFileObj)\n",
    "\n",
    "print(pdfReader.numPages)\n",
    "\n",
    "pageObj = pdfReader.getPage(8)\n",
    "print(pageObj.extractText())\n",
    "\n",
    "pdfFileObj.close()"
   ]
  },
  {
   "cell_type": "code",
   "execution_count": 64,
   "metadata": {},
   "outputs": [
    {
     "ename": "PolicyError",
     "evalue": "attempt to perform an operation not allowed by the security policy `PDF' @ error/constitute.c/IsCoderAuthorized/408",
     "output_type": "error",
     "traceback": [
      "\u001b[0;31m---------------------------------------------------------------------------\u001b[0m",
      "\u001b[0;31mPolicyError\u001b[0m                               Traceback (most recent call last)",
      "\u001b[0;32m<ipython-input-64-f731f009edaa>\u001b[0m in \u001b[0;36m<module>\u001b[0;34m\u001b[0m\n\u001b[1;32m      1\u001b[0m \u001b[0;32mfrom\u001b[0m \u001b[0mwand\u001b[0m\u001b[0;34m.\u001b[0m\u001b[0mimage\u001b[0m \u001b[0;32mimport\u001b[0m \u001b[0mImage\u001b[0m \u001b[0;32mas\u001b[0m \u001b[0mImg\u001b[0m\u001b[0;34m\u001b[0m\u001b[0;34m\u001b[0m\u001b[0m\n\u001b[0;32m----> 2\u001b[0;31m \u001b[0;32mwith\u001b[0m \u001b[0mImg\u001b[0m\u001b[0;34m(\u001b[0m\u001b[0mfilename\u001b[0m\u001b[0;34m=\u001b[0m\u001b[0;34m'a6.pdf'\u001b[0m\u001b[0;34m,\u001b[0m \u001b[0mresolution\u001b[0m\u001b[0;34m=\u001b[0m\u001b[0;36m300\u001b[0m\u001b[0;34m)\u001b[0m \u001b[0;32mas\u001b[0m \u001b[0mimg\u001b[0m\u001b[0;34m:\u001b[0m\u001b[0;34m\u001b[0m\u001b[0;34m\u001b[0m\u001b[0m\n\u001b[0m\u001b[1;32m      3\u001b[0m     \u001b[0mimg\u001b[0m\u001b[0;34m.\u001b[0m\u001b[0mcompression_quality\u001b[0m \u001b[0;34m=\u001b[0m \u001b[0;36m99\u001b[0m\u001b[0;34m\u001b[0m\u001b[0;34m\u001b[0m\u001b[0m\n\u001b[1;32m      4\u001b[0m     \u001b[0mimg\u001b[0m\u001b[0;34m.\u001b[0m\u001b[0msave\u001b[0m\u001b[0;34m(\u001b[0m\u001b[0mfilename\u001b[0m\u001b[0;34m=\u001b[0m\u001b[0;34m'image_name.jpg'\u001b[0m\u001b[0;34m)\u001b[0m\u001b[0;34m\u001b[0m\u001b[0;34m\u001b[0m\u001b[0m\n",
      "\u001b[0;32m~/.local/lib/python3.8/site-packages/wand/image.py\u001b[0m in \u001b[0;36m__init__\u001b[0;34m(self, image, blob, file, filename, format, width, height, depth, background, resolution, pseudo, colorspace, units)\u001b[0m\n\u001b[1;32m   8552\u001b[0m                     \u001b[0mself\u001b[0m\u001b[0;34m.\u001b[0m\u001b[0mread\u001b[0m\u001b[0;34m(\u001b[0m\u001b[0mblob\u001b[0m\u001b[0;34m=\u001b[0m\u001b[0mblob\u001b[0m\u001b[0;34m,\u001b[0m \u001b[0mresolution\u001b[0m\u001b[0;34m=\u001b[0m\u001b[0mresolution\u001b[0m\u001b[0;34m,\u001b[0m \u001b[0munits\u001b[0m\u001b[0;34m=\u001b[0m\u001b[0munits\u001b[0m\u001b[0;34m)\u001b[0m\u001b[0;34m\u001b[0m\u001b[0;34m\u001b[0m\u001b[0m\n\u001b[1;32m   8553\u001b[0m                 \u001b[0;32melif\u001b[0m \u001b[0mfilename\u001b[0m \u001b[0;32mis\u001b[0m \u001b[0;32mnot\u001b[0m \u001b[0;32mNone\u001b[0m\u001b[0;34m:\u001b[0m\u001b[0;34m\u001b[0m\u001b[0;34m\u001b[0m\u001b[0m\n\u001b[0;32m-> 8554\u001b[0;31m                     self.read(filename=filename, resolution=resolution,\n\u001b[0m\u001b[1;32m   8555\u001b[0m                               units=units)\n\u001b[1;32m   8556\u001b[0m                 \u001b[0;31m# clear the wand format, otherwise any subsequent call to\u001b[0m\u001b[0;34m\u001b[0m\u001b[0;34m\u001b[0m\u001b[0;34m\u001b[0m\u001b[0m\n",
      "\u001b[0;32m~/.local/lib/python3.8/site-packages/wand/image.py\u001b[0m in \u001b[0;36mread\u001b[0;34m(self, file, filename, blob, resolution, units)\u001b[0m\n\u001b[1;32m   9028\u001b[0m             \u001b[0mr\u001b[0m \u001b[0;34m=\u001b[0m \u001b[0mlibrary\u001b[0m\u001b[0;34m.\u001b[0m\u001b[0mMagickReadImage\u001b[0m\u001b[0;34m(\u001b[0m\u001b[0mself\u001b[0m\u001b[0;34m.\u001b[0m\u001b[0mwand\u001b[0m\u001b[0;34m,\u001b[0m \u001b[0mfilename\u001b[0m\u001b[0;34m)\u001b[0m\u001b[0;34m\u001b[0m\u001b[0;34m\u001b[0m\u001b[0m\n\u001b[1;32m   9029\u001b[0m         \u001b[0;32mif\u001b[0m \u001b[0;32mnot\u001b[0m \u001b[0mr\u001b[0m\u001b[0;34m:\u001b[0m\u001b[0;34m\u001b[0m\u001b[0;34m\u001b[0m\u001b[0m\n\u001b[0;32m-> 9030\u001b[0;31m             \u001b[0mself\u001b[0m\u001b[0;34m.\u001b[0m\u001b[0mraise_exception\u001b[0m\u001b[0;34m(\u001b[0m\u001b[0;34m)\u001b[0m\u001b[0;34m\u001b[0m\u001b[0;34m\u001b[0m\u001b[0m\n\u001b[0m\u001b[1;32m   9031\u001b[0m             msg = ('MagickReadImage returns false, but did not raise '\n\u001b[1;32m   9032\u001b[0m                    \u001b[0;34m'ImageMagick  exception. This can occur when a delegate '\u001b[0m\u001b[0;34m\u001b[0m\u001b[0;34m\u001b[0m\u001b[0m\n",
      "\u001b[0;32m~/.local/lib/python3.8/site-packages/wand/resource.py\u001b[0m in \u001b[0;36mraise_exception\u001b[0;34m(self, stacklevel)\u001b[0m\n\u001b[1;32m    228\u001b[0m             \u001b[0mwarnings\u001b[0m\u001b[0;34m.\u001b[0m\u001b[0mwarn\u001b[0m\u001b[0;34m(\u001b[0m\u001b[0me\u001b[0m\u001b[0;34m,\u001b[0m \u001b[0mstacklevel\u001b[0m\u001b[0;34m=\u001b[0m\u001b[0mstacklevel\u001b[0m \u001b[0;34m+\u001b[0m \u001b[0;36m1\u001b[0m\u001b[0;34m)\u001b[0m\u001b[0;34m\u001b[0m\u001b[0;34m\u001b[0m\u001b[0m\n\u001b[1;32m    229\u001b[0m         \u001b[0;32melif\u001b[0m \u001b[0misinstance\u001b[0m\u001b[0;34m(\u001b[0m\u001b[0me\u001b[0m\u001b[0;34m,\u001b[0m \u001b[0mException\u001b[0m\u001b[0;34m)\u001b[0m\u001b[0;34m:\u001b[0m\u001b[0;34m\u001b[0m\u001b[0;34m\u001b[0m\u001b[0m\n\u001b[0;32m--> 230\u001b[0;31m             \u001b[0;32mraise\u001b[0m \u001b[0me\u001b[0m\u001b[0;34m\u001b[0m\u001b[0;34m\u001b[0m\u001b[0m\n\u001b[0m\u001b[1;32m    231\u001b[0m \u001b[0;34m\u001b[0m\u001b[0m\n\u001b[1;32m    232\u001b[0m     \u001b[0;32mdef\u001b[0m \u001b[0mmake_blob\u001b[0m\u001b[0;34m(\u001b[0m\u001b[0mself\u001b[0m\u001b[0;34m,\u001b[0m \u001b[0mformat\u001b[0m\u001b[0;34m=\u001b[0m\u001b[0;32mNone\u001b[0m\u001b[0;34m)\u001b[0m\u001b[0;34m:\u001b[0m\u001b[0;34m\u001b[0m\u001b[0;34m\u001b[0m\u001b[0m\n",
      "\u001b[0;31mPolicyError\u001b[0m: attempt to perform an operation not allowed by the security policy `PDF' @ error/constitute.c/IsCoderAuthorized/408"
     ]
    }
   ],
   "source": [
    "from wand.image import Image as Img\n",
    "with Img(filename='a6.pdf', resolution=300) as img:\n",
    "    img.compression_quality = 99\n",
    "    img.save(filename='image_name.jpg')"
   ]
  },
  {
   "cell_type": "code",
   "execution_count": 97,
   "metadata": {},
   "outputs": [],
   "source": []
  },
  {
   "cell_type": "code",
   "execution_count": null,
   "metadata": {},
   "outputs": [],
   "source": []
  },
  {
   "cell_type": "code",
   "execution_count": 101,
   "metadata": {},
   "outputs": [],
   "source": [
    "import tempfile\n",
    "\n",
    "with tempfile.TemporaryDirectory() as path:\n",
    "    images_from_path = convert_from_path('a6.pdf', output_folder=path)\n",
    "    # Do something here\n",
    "    "
   ]
  },
  {
   "cell_type": "code",
   "execution_count": 107,
   "metadata": {},
   "outputs": [],
   "source": [
    "from pdf2image import convert_from_path\n",
    "\n",
    "from pdf2image.exceptions import (\n",
    " PDFInfoNotInstalledError,\n",
    " PDFPageCountError,\n",
    " PDFSyntaxError\n",
    ")"
   ]
  },
  {
   "cell_type": "code",
   "execution_count": 130,
   "metadata": {},
   "outputs": [],
   "source": [
    "images = convert_from_path('a6.pdf')\n",
    "img=[]\n",
    "for i, image in enumerate(images):\n",
    "    fname = \"image\" + str(i) + \".png\"\n",
    "    img.append(fname)\n",
    "    image.save(fname, \"PNG\")\n",
    "    "
   ]
  },
  {
   "cell_type": "code",
   "execution_count": 131,
   "metadata": {},
   "outputs": [
    {
     "data": {
      "text/plain": [
       "['image0.png',\n",
       " 'image1.png',\n",
       " 'image2.png',\n",
       " 'image3.png',\n",
       " 'image4.png',\n",
       " 'image5.png',\n",
       " 'image6.png',\n",
       " 'image7.png',\n",
       " 'image8.png']"
      ]
     },
     "execution_count": 131,
     "metadata": {},
     "output_type": "execute_result"
    }
   ],
   "source": [
    "img"
   ]
  },
  {
   "cell_type": "code",
   "execution_count": 118,
   "metadata": {},
   "outputs": [
    {
     "data": {
      "text/plain": [
       "'image8.png'"
      ]
     },
     "execution_count": 118,
     "metadata": {},
     "output_type": "execute_result"
    }
   ],
   "source": [
    "fname"
   ]
  },
  {
   "cell_type": "code",
   "execution_count": null,
   "metadata": {},
   "outputs": [],
   "source": []
  }
 ],
 "metadata": {
  "kernelspec": {
   "display_name": "Python 3",
   "language": "python",
   "name": "python3"
  },
  "language_info": {
   "codemirror_mode": {
    "name": "ipython",
    "version": 3
   },
   "file_extension": ".py",
   "mimetype": "text/x-python",
   "name": "python",
   "nbconvert_exporter": "python",
   "pygments_lexer": "ipython3",
   "version": "3.8.8"
  }
 },
 "nbformat": 4,
 "nbformat_minor": 4
}
