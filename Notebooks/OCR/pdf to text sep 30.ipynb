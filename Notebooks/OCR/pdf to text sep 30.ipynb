{
 "cells": [
  {
   "cell_type": "code",
   "execution_count": 1,
   "metadata": {},
   "outputs": [],
   "source": [
    "import pandas as pd\n"
   ]
  },
  {
   "cell_type": "code",
   "execution_count": 2,
   "metadata": {},
   "outputs": [],
   "source": [
    "#Convert PDF to Images , each page converted into seprate image\n",
    "\n",
    "from pdf2image import convert_from_path\n",
    "\n",
    "from pdf2image.exceptions import (\n",
    " PDFInfoNotInstalledError,\n",
    " PDFPageCountError,\n",
    " PDFSyntaxError\n",
    ")"
   ]
  },
  {
   "cell_type": "code",
   "execution_count": 3,
   "metadata": {},
   "outputs": [],
   "source": [
    "# Word List for Keywords to Fetch Info\n",
    "word_list = [\n",
    "'H.P.L.C',\n",
    "'AVERAGE BLOOD GLUCOSE (ABG)',\n",
    "'TOTAL LEUCOCYTES COUNT',\n",
    "'NEUTROPHILS',\n",
    "'LYMPHOCYTE PERCENTAGE',\n",
    "'MONOCYTES',\n",
    "'EOSINOPHILS',\n",
    "'BASOPHILS',\n",
    "'IMMATURE GRANULOCYTE PERCENTAGE(IG%)',\n",
    "'NEUTROPHILS - ABSOLUTE COUNT',\n",
    "'LYMPHOCYTES - ABSOLUTE COUNT',\n",
    "'MONOCYTES - ABSOLUTE COUNT',\n",
    "'BASOPHILS - ABSOLUTE COUNT',\n",
    "'EOSINOPHILS - ABSOLUTE COUNT',\n",
    "'IMMATURE GRANULOCYTES(IG)',\n",
    "'TOTAL RBC',\n",
    "'HEMOGLOBIN',\n",
    "'HEMATOCRIT(PCV)',\n",
    "'MEAN CORPUSCULAR VOLUME(MCV)',\n",
    "'MEAN CORPUSCULAR HEMOGLOBIN(MCH)',\n",
    "'MEAN CORP.HEMO.CONC(MCHC)',\n",
    "'RED CELL DISTRIBUTION WIDTH - SD(RDW-SD)',\n",
    "'RED CELL DISTRIBUTION WIDTH (RDW-CV)',\n",
    "'PLATELET DISTRIBUTION WIDTH(PDW)',\n",
    "'MEAN PLATELET VOLUME(MPV)',\n",
    "'PLATELET COUNT',\n",
    "'PLATELET TO LARGE CELL RATIO(PLCR)',\n",
    "'PLATELETCRIT(PCT)',\n",
    "'IRON',\n",
    "'TOTAL IRON BINDING CAPACITY (TIBC)',\n",
    "'% TRANSFERRIN SATURATION',\n",
    "'TRANSFERRIN SATURATION',\n",
    "'ALKALINE PHOSPHATASE',\n",
    "'BILIRUBIN - TOTAL',\n",
    "'BILIRUBIN -DIRECT',\n",
    "'BILIRUBIN (INDIRECT)',\n",
    "'GAMMA GLUTAMYL TRANSFERASE (GGT)',\n",
    "'ASPARTATE AMINOTRANSFERASE (SGOT )',\n",
    "'ALANINE TRANSAMINASE (SGPT)',\n",
    "'PROTEIN - TOTAL',\n",
    "'ALBUMIN - SERUM',\n",
    "'SERUM ALB/GLOBULIN RATIO',\n",
    "'SERUM GLOBULIN',\n",
    "'TOTAL CHOLESTEROL',\n",
    "'HDL CHOLESTEROL - DIRECT',\n",
    "'LDL CHOLESTEROL - DIRECT',\n",
    "'TRIGLYCERIDES',\n",
    "'TC/ HDL CHOLESTEROL RATIO',\n",
    "'LDL / HDL RATIO',\n",
    "'VLDL CHOLESTEROL',\n",
    "'NON-HDL CHOLESTEROL',\n",
    "'TOTAL TRIIODOTHYRONINE (T3)',\n",
    "'TOTAL THYROXINE',\n",
    "'THYROID STIMULATING HORMONE',\n",
    "'BLOOD UREA NITROGEN (BUN)',\n",
    "'CREATININE - SERUM',\n",
    "'BUN / SR.CREATININE RATIO',\n",
    "'CALCIUM',\n",
    "'URIC ACID',\n",
    "'EST. GLOMERULAR FILTRATION RATE',\n",
    "]\n",
    "\n"
   ]
  },
  {
   "cell_type": "code",
   "execution_count": 4,
   "metadata": {},
   "outputs": [],
   "source": [
    "stopwords = ['X103pL','X103/pL','-','4.0-10.0','X103/uL','2.0-7.0','1.0-3.0','%','CLIA','ng/d|',\n",
    "                 'C.LI.A','HIU/ml','C.L.L.A','(SGOT','(SGOT)','CLA','<','<2',\n",
    "                '20-40','PERCENTAGE(IG%)','0-0.5','40-80','0.0-6.0','0.0-6.0','0-0.1','mg/dl','CLIA','HIU/ml'\n",
    "                '<2','0-10','<','>', 'X', '103', '/', 'pL', '0.2-1','X1046/pL', '<0.01','g/dL', '13-17','fl', '83-101',\n",
    "                'pq', '27-32','g/dL', '31.5-34.5','0-0.3','40-50','fL', '39-46','11.6-14','9.6-15.2','4.5-5.5','g/dl',\n",
    "               'PHOTOMETRY','CALCULATED','(eGFR)', 'Ratio', '9:1-23:1', '(mg/dl)',\n",
    "                 'mL/min/1.73', 'm2','uIU/ml', '0.3-5.5','85-130','35-80','125-200','gm/dL', '2.5-3.4','u/|', '<35','(',')',\n",
    "                'u/I', '<55','gm/dl', '3.2-4.8''5.7-8.2','6.5-12','19.7-42.4','0.19-0.39','0.3-1.2','0-0.9','5.7-8.2',\n",
    "                '3.2-4.8','3-5', 'ng/dl', '60-200','ug/dl', '4.5-12','7-25','0.6-1.1','8.8-10.6','-7.3','5-40','U/L','1.5-3.5',\n",
    "                'RATIO','150-400','4.0-10.0','25-200','B12 pg/mL 911','B12' ,'pg/mL' ,'911',]"
   ]
  },
  {
   "cell_type": "code",
   "execution_count": null,
   "metadata": {},
   "outputs": [],
   "source": []
  },
  {
   "cell_type": "code",
   "execution_count": 5,
   "metadata": {},
   "outputs": [],
   "source": [
    "#function to find all floats values from list\n",
    "def solve(lis):\n",
    "    for x in lis:\n",
    "        try:\n",
    "            float(x)\n",
    "            return True\n",
    "        except:\n",
    "            return False"
   ]
  },
  {
   "cell_type": "code",
   "execution_count": 10,
   "metadata": {},
   "outputs": [],
   "source": [
    "# Function to convert to Strings  \n",
    "def listToString(s):  \n",
    "    \n",
    "    # initialize an empty string \n",
    "    str1 = \"\"  \n",
    "    \n",
    "    # traverse in the string   \n",
    "    for ele in s:  \n",
    "        str1 += ele   \n",
    "    \n",
    "    # return string   \n",
    "    return str1  "
   ]
  },
  {
   "cell_type": "code",
   "execution_count": null,
   "metadata": {},
   "outputs": [],
   "source": []
  },
  {
   "cell_type": "code",
   "execution_count": null,
   "metadata": {},
   "outputs": [],
   "source": []
  },
  {
   "cell_type": "code",
   "execution_count": null,
   "metadata": {},
   "outputs": [],
   "source": []
  },
  {
   "cell_type": "code",
   "execution_count": 22,
   "metadata": {},
   "outputs": [],
   "source": [
    "import pdftotext\n",
    "# Load your PDF\n",
    "with open(\"a6.pdf\", \"rb\") as f:\n",
    "    pdf = pdftotext.PDF(f)\n",
    "\n",
    "    for page in pdf:\n",
    "        text1 = str(page)\n",
    " # Save all text to a txt file.\n",
    "#with open('output.txt', 'w') as f:\n",
    " #   f.write(\"\\n\\n\".join(pdf))\n",
    "\n"
   ]
  },
  {
   "cell_type": "code",
   "execution_count": 39,
   "metadata": {},
   "outputs": [],
   "source": [
    "#extracted_text = \"\".join(pdf)\n",
    "extracted_text = pdf[1]"
   ]
  },
  {
   "cell_type": "code",
   "execution_count": 40,
   "metadata": {},
   "outputs": [
    {
     "data": {
      "text/plain": [
       "' PROCESSED AT :\\n Thyrocare\\n D-37/1,TTC MIDC,Turbhe,\\n Navi Mumbai-400 703\\n NAME              :   MR SRIKANTH (38Y/M)                                        SAMPLE COLLECTED AT :\\n                                                                                  (5311169953),PRABHU CLINICAL\\n REF. BY           :   SELF\\n                                                                                  LABORATORY,DR.YEKKALA RAMAKRISHNA\\n TEST ASKED        : HBA,HEMOGRAM - 6 PART (DIFF)                                 HOSPITAL RAMARAOPETA NARSIPATNAM\\n                                                                                  531116,531116\\n TEST NAME                                                      VALUE              UNITS        REFERENCE RANGE\\n TOTAL LEUCOCYTES COUNT                                          6.4               X 10³ / µL   4.0-10.0\\n NEUTROPHILS                                                     49.7              %            40-80\\n LYMPHOCYTE PERCENTAGE                                           42.8              %            20-40\\n MONOCYTES                                                       2.3               %            0-10\\n EOSINOPHILS                                                     4.7               %            0.0-6.0\\n BASOPHILS                                                       0.2               %            <2\\n IMMATURE GRANULOCYTE PERCENTAGE(IG%)                            0.3               %            0-0.5\\n NEUTROPHILS - ABSOLUTE COUNT                                    3.18              X 10³ / µL   2.0-7.0\\n LYMPHOCYTES - ABSOLUTE COUNT                                    2.74              X 10³ / µL   1.0-3.0\\n MONOCYTES - ABSOLUTE COUNT                                      0.15              X 10³ / µL   0.2-1\\n BASOPHILS - ABSOLUTE COUNT                                      0.01              X 10³ / µL   0-0.1\\n EOSINOPHILS - ABSOLUTE COUNT                                    0.3               X 10³ / µL   0-0.5\\n IMMATURE GRANULOCYTES(IG)                                       0.02              X 10³ / µL   0-0.3\\n TOTAL RBC                                                       6.13              X 10^6/µL    4.5-5.5\\n NUCLEATED RED BLOOD CELLS                                      Nil                X 10³ / µL   <0.01\\n NUCLEATED RED BLOOD CELLS %                                    Nil                %            <0.01\\n HEMOGLOBIN                                                      18.1              g/dL         13-17\\n HEMATOCRIT(PCV)                                                 50.68             %            40-50\\n MEAN CORPUSCULAR VOLUME(MCV)                                    100.2             fL           83-101\\n MEAN CORPUSCULAR HEMOGLOBIN(MCH)                                29.5              pq           27-32\\n MEAN CORP.HEMO.CONC(MCHC)                                       29.5              g/dL         31.5-34.5\\n RED CELL DISTRIBUTION WIDTH - SD(RDW-SD)                        62.9              fL           39-46\\n RED CELL DISTRIBUTION WIDTH (RDW-CV)                            17.6              %            11.6-14\\n PLATELET DISTRIBUTION WIDTH(PDW)                                11.1              fL           9.6-15.2\\n MEAN PLATELET VOLUME(MPV)                                       9.4               fL           6.5-12\\n PLATELET COUNT                                                  222               X 10³ / µL   150-400\\n PLATELET TO LARGE CELL RATIO(PLCR)                              20.5              %            19.7-42.4\\n PLATELETCRIT(PCT)                                               0.21              %            0.19-0.39\\nRemarks :    ALERT !!! Anisocytosis\\n Please Correlate with clinical conditions.\\n Method : Fully automated bidirectional analyser (6 Part Differential SYSMEX XN-1000)\\n (This device performs hematology analyses according to the Hydrodynamic Focussing (DC method), Flow\\n Cytometry Method (using a semiconductor laser), and SLS- hemoglobin method)\\n Sample Collected on (SCT)                  : 26 Aug 2019 18:00\\n Sample Received on (SRT)                   : 27 Aug 2019 22:50\\n Report Released on (RRT)                   : 28 Aug 2019 08:25\\n Sample Type                               : EDTA\\n                                                                       Dr.Prachi Sinkar MD(Path)      Dr.Caesar Sengupta MD(Micro)\\n Labcode                                   : 2708040370/A6750\\n                                                                                                          Page : 2 of 9\\n Barcode                                   : M9261080\\n'"
      ]
     },
     "execution_count": 40,
     "metadata": {},
     "output_type": "execute_result"
    }
   ],
   "source": [
    "extracted_text"
   ]
  },
  {
   "cell_type": "code",
   "execution_count": 41,
   "metadata": {},
   "outputs": [],
   "source": [
    "extracted_text = listToString(extracted_text)"
   ]
  },
  {
   "cell_type": "code",
   "execution_count": 42,
   "metadata": {},
   "outputs": [
    {
     "data": {
      "text/plain": [
       "' PROCESSED AT :\\n Thyrocare\\n D-37/1,TTC MIDC,Turbhe,\\n Navi Mumbai-400 703\\n NAME              :   MR SRIKANTH (38Y/M)                                        SAMPLE COLLECTED AT :\\n                                                                                  (5311169953),PRABHU CLINICAL\\n REF. BY           :   SELF\\n                                                                                  LABORATORY,DR.YEKKALA RAMAKRISHNA\\n TEST ASKED        : HBA,HEMOGRAM - 6 PART (DIFF)                                 HOSPITAL RAMARAOPETA NARSIPATNAM\\n                                                                                  531116,531116\\n TEST NAME                                                      VALUE              UNITS        REFERENCE RANGE\\n TOTAL LEUCOCYTES COUNT                                          6.4               X 10³ / µL   4.0-10.0\\n NEUTROPHILS                                                     49.7              %            40-80\\n LYMPHOCYTE PERCENTAGE                                           42.8              %            20-40\\n MONOCYTES                                                       2.3               %            0-10\\n EOSINOPHILS                                                     4.7               %            0.0-6.0\\n BASOPHILS                                                       0.2               %            <2\\n IMMATURE GRANULOCYTE PERCENTAGE(IG%)                            0.3               %            0-0.5\\n NEUTROPHILS - ABSOLUTE COUNT                                    3.18              X 10³ / µL   2.0-7.0\\n LYMPHOCYTES - ABSOLUTE COUNT                                    2.74              X 10³ / µL   1.0-3.0\\n MONOCYTES - ABSOLUTE COUNT                                      0.15              X 10³ / µL   0.2-1\\n BASOPHILS - ABSOLUTE COUNT                                      0.01              X 10³ / µL   0-0.1\\n EOSINOPHILS - ABSOLUTE COUNT                                    0.3               X 10³ / µL   0-0.5\\n IMMATURE GRANULOCYTES(IG)                                       0.02              X 10³ / µL   0-0.3\\n TOTAL RBC                                                       6.13              X 10^6/µL    4.5-5.5\\n NUCLEATED RED BLOOD CELLS                                      Nil                X 10³ / µL   <0.01\\n NUCLEATED RED BLOOD CELLS %                                    Nil                %            <0.01\\n HEMOGLOBIN                                                      18.1              g/dL         13-17\\n HEMATOCRIT(PCV)                                                 50.68             %            40-50\\n MEAN CORPUSCULAR VOLUME(MCV)                                    100.2             fL           83-101\\n MEAN CORPUSCULAR HEMOGLOBIN(MCH)                                29.5              pq           27-32\\n MEAN CORP.HEMO.CONC(MCHC)                                       29.5              g/dL         31.5-34.5\\n RED CELL DISTRIBUTION WIDTH - SD(RDW-SD)                        62.9              fL           39-46\\n RED CELL DISTRIBUTION WIDTH (RDW-CV)                            17.6              %            11.6-14\\n PLATELET DISTRIBUTION WIDTH(PDW)                                11.1              fL           9.6-15.2\\n MEAN PLATELET VOLUME(MPV)                                       9.4               fL           6.5-12\\n PLATELET COUNT                                                  222               X 10³ / µL   150-400\\n PLATELET TO LARGE CELL RATIO(PLCR)                              20.5              %            19.7-42.4\\n PLATELETCRIT(PCT)                                               0.21              %            0.19-0.39\\nRemarks :    ALERT !!! Anisocytosis\\n Please Correlate with clinical conditions.\\n Method : Fully automated bidirectional analyser (6 Part Differential SYSMEX XN-1000)\\n (This device performs hematology analyses according to the Hydrodynamic Focussing (DC method), Flow\\n Cytometry Method (using a semiconductor laser), and SLS- hemoglobin method)\\n Sample Collected on (SCT)                  : 26 Aug 2019 18:00\\n Sample Received on (SRT)                   : 27 Aug 2019 22:50\\n Report Released on (RRT)                   : 28 Aug 2019 08:25\\n Sample Type                               : EDTA\\n                                                                       Dr.Prachi Sinkar MD(Path)      Dr.Caesar Sengupta MD(Micro)\\n Labcode                                   : 2708040370/A6750\\n                                                                                                          Page : 2 of 9\\n Barcode                                   : M9261080\\n'"
      ]
     },
     "execution_count": 42,
     "metadata": {},
     "output_type": "execute_result"
    }
   ],
   "source": [
    "extracted_text"
   ]
  },
  {
   "cell_type": "code",
   "execution_count": 49,
   "metadata": {},
   "outputs": [],
   "source": [
    "Report_List = []\n",
    "for row in extracted_text.split('\\n'):\n",
    "    for word in list(word_list):\n",
    "        if row.startswith(word):\n",
    "            word = row.split()\n",
    "            word = word\n",
    "            for word_name in list(word):\n",
    "                if word_name in stopwords:\n",
    "\n",
    "                    word.remove(word_name)\n",
    "\n",
    "            for i in word:\n",
    "                if  solve(i):\n",
    "                    null = i\n",
    "                    word.remove(null)\n",
    "                    i = float(i)\n",
    "\n",
    "            word = [x for x in word if not isinstance(x, int)]\n",
    "            word = [' '.join(word)]\n",
    "            #print(word)\n",
    "            word.append(i)\n",
    "            #word.remove(str(i))\n",
    "            #print(word)\n",
    "            Report_List.append(word)"
   ]
  },
  {
   "cell_type": "code",
   "execution_count": 50,
   "metadata": {},
   "outputs": [
    {
     "data": {
      "text/plain": [
       "[]"
      ]
     },
     "execution_count": 50,
     "metadata": {},
     "output_type": "execute_result"
    }
   ],
   "source": [
    "Report_List"
   ]
  },
  {
   "cell_type": "code",
   "execution_count": 48,
   "metadata": {},
   "outputs": [
    {
     "ename": "ValueError",
     "evalue": "Length mismatch: Expected axis has 0 elements, new values have 2 elements",
     "output_type": "error",
     "traceback": [
      "\u001b[0;31m---------------------------------------------------------------------------\u001b[0m",
      "\u001b[0;31mValueError\u001b[0m                                Traceback (most recent call last)",
      "\u001b[0;32m<ipython-input-48-8524e8cdc7aa>\u001b[0m in \u001b[0;36m<module>\u001b[0;34m\u001b[0m\n\u001b[1;32m      1\u001b[0m \u001b[0mextracted_DataFrame\u001b[0m \u001b[0;34m=\u001b[0m \u001b[0mpd\u001b[0m\u001b[0;34m.\u001b[0m\u001b[0mDataFrame\u001b[0m\u001b[0;34m(\u001b[0m\u001b[0mReport_List\u001b[0m\u001b[0;34m)\u001b[0m\u001b[0;34m\u001b[0m\u001b[0;34m\u001b[0m\u001b[0m\n\u001b[1;32m      2\u001b[0m \u001b[0;31m#Data Cleaning\u001b[0m\u001b[0;34m\u001b[0m\u001b[0;34m\u001b[0m\u001b[0;34m\u001b[0m\u001b[0m\n\u001b[0;32m----> 3\u001b[0;31m \u001b[0mextracted_DataFrame\u001b[0m\u001b[0;34m.\u001b[0m\u001b[0mcolumns\u001b[0m \u001b[0;34m=\u001b[0m \u001b[0;34m[\u001b[0m\u001b[0;34m'Keys'\u001b[0m\u001b[0;34m,\u001b[0m\u001b[0;34m'Values'\u001b[0m\u001b[0;34m]\u001b[0m\u001b[0;34m\u001b[0m\u001b[0;34m\u001b[0m\u001b[0m\n\u001b[0m\u001b[1;32m      4\u001b[0m \u001b[0mextracted_DataFrame\u001b[0m\u001b[0;34m.\u001b[0m\u001b[0mrename\u001b[0m\u001b[0;34m(\u001b[0m\u001b[0mcolumns\u001b[0m\u001b[0;34m=\u001b[0m\u001b[0;34m{\u001b[0m\u001b[0;34m'Keys'\u001b[0m\u001b[0;34m:\u001b[0m\u001b[0;34m'Values'\u001b[0m\u001b[0;34m}\u001b[0m\u001b[0;34m,\u001b[0m\u001b[0minplace\u001b[0m\u001b[0;34m=\u001b[0m\u001b[0;32mTrue\u001b[0m\u001b[0;34m)\u001b[0m\u001b[0;34m\u001b[0m\u001b[0;34m\u001b[0m\u001b[0m\n\u001b[1;32m      5\u001b[0m \u001b[0mextracted_DataFrame\u001b[0m\u001b[0;34m[\u001b[0m\u001b[0;34m'Keys'\u001b[0m\u001b[0;34m]\u001b[0m \u001b[0;34m=\u001b[0m \u001b[0mextracted_DataFrame\u001b[0m\u001b[0;34m[\u001b[0m\u001b[0;34m'Keys'\u001b[0m\u001b[0;34m]\u001b[0m\u001b[0;34m.\u001b[0m\u001b[0mstr\u001b[0m\u001b[0;34m.\u001b[0m\u001b[0mreplace\u001b[0m\u001b[0;34m(\u001b[0m\u001b[0;34m'\\d+'\u001b[0m\u001b[0;34m,\u001b[0m \u001b[0;34m''\u001b[0m\u001b[0;34m)\u001b[0m\u001b[0;34m\u001b[0m\u001b[0;34m\u001b[0m\u001b[0m\n",
      "\u001b[0;32m~/.local/lib/python3.8/site-packages/pandas/core/generic.py\u001b[0m in \u001b[0;36m__setattr__\u001b[0;34m(self, name, value)\u001b[0m\n\u001b[1;32m   5141\u001b[0m         \u001b[0;32mtry\u001b[0m\u001b[0;34m:\u001b[0m\u001b[0;34m\u001b[0m\u001b[0;34m\u001b[0m\u001b[0m\n\u001b[1;32m   5142\u001b[0m             \u001b[0mobject\u001b[0m\u001b[0;34m.\u001b[0m\u001b[0m__getattribute__\u001b[0m\u001b[0;34m(\u001b[0m\u001b[0mself\u001b[0m\u001b[0;34m,\u001b[0m \u001b[0mname\u001b[0m\u001b[0;34m)\u001b[0m\u001b[0;34m\u001b[0m\u001b[0;34m\u001b[0m\u001b[0m\n\u001b[0;32m-> 5143\u001b[0;31m             \u001b[0;32mreturn\u001b[0m \u001b[0mobject\u001b[0m\u001b[0;34m.\u001b[0m\u001b[0m__setattr__\u001b[0m\u001b[0;34m(\u001b[0m\u001b[0mself\u001b[0m\u001b[0;34m,\u001b[0m \u001b[0mname\u001b[0m\u001b[0;34m,\u001b[0m \u001b[0mvalue\u001b[0m\u001b[0;34m)\u001b[0m\u001b[0;34m\u001b[0m\u001b[0;34m\u001b[0m\u001b[0m\n\u001b[0m\u001b[1;32m   5144\u001b[0m         \u001b[0;32mexcept\u001b[0m \u001b[0mAttributeError\u001b[0m\u001b[0;34m:\u001b[0m\u001b[0;34m\u001b[0m\u001b[0;34m\u001b[0m\u001b[0m\n\u001b[1;32m   5145\u001b[0m             \u001b[0;32mpass\u001b[0m\u001b[0;34m\u001b[0m\u001b[0;34m\u001b[0m\u001b[0m\n",
      "\u001b[0;32mpandas/_libs/properties.pyx\u001b[0m in \u001b[0;36mpandas._libs.properties.AxisProperty.__set__\u001b[0;34m()\u001b[0m\n",
      "\u001b[0;32m~/.local/lib/python3.8/site-packages/pandas/core/generic.py\u001b[0m in \u001b[0;36m_set_axis\u001b[0;34m(self, axis, labels)\u001b[0m\n\u001b[1;32m    562\u001b[0m     \u001b[0;32mdef\u001b[0m \u001b[0m_set_axis\u001b[0m\u001b[0;34m(\u001b[0m\u001b[0mself\u001b[0m\u001b[0;34m,\u001b[0m \u001b[0maxis\u001b[0m\u001b[0;34m:\u001b[0m \u001b[0mint\u001b[0m\u001b[0;34m,\u001b[0m \u001b[0mlabels\u001b[0m\u001b[0;34m:\u001b[0m \u001b[0mIndex\u001b[0m\u001b[0;34m)\u001b[0m \u001b[0;34m->\u001b[0m \u001b[0;32mNone\u001b[0m\u001b[0;34m:\u001b[0m\u001b[0;34m\u001b[0m\u001b[0;34m\u001b[0m\u001b[0m\n\u001b[1;32m    563\u001b[0m         \u001b[0mlabels\u001b[0m \u001b[0;34m=\u001b[0m \u001b[0mensure_index\u001b[0m\u001b[0;34m(\u001b[0m\u001b[0mlabels\u001b[0m\u001b[0;34m)\u001b[0m\u001b[0;34m\u001b[0m\u001b[0;34m\u001b[0m\u001b[0m\n\u001b[0;32m--> 564\u001b[0;31m         \u001b[0mself\u001b[0m\u001b[0;34m.\u001b[0m\u001b[0m_mgr\u001b[0m\u001b[0;34m.\u001b[0m\u001b[0mset_axis\u001b[0m\u001b[0;34m(\u001b[0m\u001b[0maxis\u001b[0m\u001b[0;34m,\u001b[0m \u001b[0mlabels\u001b[0m\u001b[0;34m)\u001b[0m\u001b[0;34m\u001b[0m\u001b[0;34m\u001b[0m\u001b[0m\n\u001b[0m\u001b[1;32m    565\u001b[0m         \u001b[0mself\u001b[0m\u001b[0;34m.\u001b[0m\u001b[0m_clear_item_cache\u001b[0m\u001b[0;34m(\u001b[0m\u001b[0;34m)\u001b[0m\u001b[0;34m\u001b[0m\u001b[0;34m\u001b[0m\u001b[0m\n\u001b[1;32m    566\u001b[0m \u001b[0;34m\u001b[0m\u001b[0m\n",
      "\u001b[0;32m~/.local/lib/python3.8/site-packages/pandas/core/internals/managers.py\u001b[0m in \u001b[0;36mset_axis\u001b[0;34m(self, axis, new_labels)\u001b[0m\n\u001b[1;32m    214\u001b[0m \u001b[0;34m\u001b[0m\u001b[0m\n\u001b[1;32m    215\u001b[0m         \u001b[0;32mif\u001b[0m \u001b[0mnew_len\u001b[0m \u001b[0;34m!=\u001b[0m \u001b[0mold_len\u001b[0m\u001b[0;34m:\u001b[0m\u001b[0;34m\u001b[0m\u001b[0;34m\u001b[0m\u001b[0m\n\u001b[0;32m--> 216\u001b[0;31m             raise ValueError(\n\u001b[0m\u001b[1;32m    217\u001b[0m                 \u001b[0;34mf\"Length mismatch: Expected axis has {old_len} elements, new \"\u001b[0m\u001b[0;34m\u001b[0m\u001b[0;34m\u001b[0m\u001b[0m\n\u001b[1;32m    218\u001b[0m                 \u001b[0;34mf\"values have {new_len} elements\"\u001b[0m\u001b[0;34m\u001b[0m\u001b[0;34m\u001b[0m\u001b[0m\n",
      "\u001b[0;31mValueError\u001b[0m: Length mismatch: Expected axis has 0 elements, new values have 2 elements"
     ]
    }
   ],
   "source": [
    "\n",
    "extracted_DataFrame = pd.DataFrame(Report_List)\n",
    "#Data Cleaning\n",
    "extracted_DataFrame.columns = ['Keys','Values']\n",
    "extracted_DataFrame.rename(columns={'Keys':'Values'},inplace=True)\n",
    "extracted_DataFrame['Keys'] = extracted_DataFrame['Keys'].str.replace('\\d+', '')\n",
    "extracted_DataFrame['Keys'] = extracted_DataFrame['Keys'].str.replace('\\.','')\n",
    "extracted_DataFrame['Keys'] = extracted_DataFrame['Keys'].str.replace('\\-','')\n",
    "extracted_DataFrame['Keys'] = extracted_DataFrame['Keys'].str.rstrip()\n",
    "#DataFrame to Dictionary\n",
    "extracted_Dictionary = extracted_DataFrame.set_index('Keys')['Values'].to_dict()\n"
   ]
  },
  {
   "cell_type": "code",
   "execution_count": 38,
   "metadata": {},
   "outputs": [
    {
     "data": {
      "text/plain": [
       "{'AVERAGE BLOOD GLUCOSE (ABG)': 192.0,\n",
       " 'IRON µg/dl': 69.1,\n",
       " 'TOTAL IRON BINDING CAPACITY (TIBC) µg/dl': 348.0,\n",
       " 'TRANSFERRIN SATURATION': 19.86,\n",
       " 'EST GLOMERULAR FILTRATION RATE': 117.0}"
      ]
     },
     "execution_count": 38,
     "metadata": {},
     "output_type": "execute_result"
    }
   ],
   "source": [
    "extracted_Dictionary"
   ]
  },
  {
   "cell_type": "code",
   "execution_count": null,
   "metadata": {},
   "outputs": [],
   "source": []
  }
 ],
 "metadata": {
  "kernelspec": {
   "display_name": "Python 3",
   "language": "python",
   "name": "python3"
  },
  "language_info": {
   "codemirror_mode": {
    "name": "ipython",
    "version": 3
   },
   "file_extension": ".py",
   "mimetype": "text/x-python",
   "name": "python",
   "nbconvert_exporter": "python",
   "pygments_lexer": "ipython3",
   "version": "3.8.3"
  }
 },
 "nbformat": 4,
 "nbformat_minor": 4
}
