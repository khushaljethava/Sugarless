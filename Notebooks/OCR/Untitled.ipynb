{
 "cells": [
  {
   "cell_type": "code",
   "execution_count": 37,
   "metadata": {},
   "outputs": [],
   "source": [
    "# Function to convert to Strings  \n",
    "def listToString(s):  \n",
    "    \n",
    "    # initialize an empty string \n",
    "    str1 = \"\"  \n",
    "    \n",
    "    # traverse in the string   \n",
    "    for ele in s:  \n",
    "        str1 += ele   \n",
    "    \n",
    "    # return string   \n",
    "    return str1  "
   ]
  },
  {
   "cell_type": "code",
   "execution_count": 39,
   "metadata": {},
   "outputs": [],
   "source": [
    "#function to find all floats values from list\n",
    "def solve(lis):\n",
    "    for x in lis:\n",
    "        try:\n",
    "            float(x)\n",
    "            return True\n",
    "        except:\n",
    "            return False"
   ]
  },
  {
   "cell_type": "code",
   "execution_count": 40,
   "metadata": {},
   "outputs": [],
   "source": [
    "# Word List for Keywords to Fetch Info\n",
    "word_list = ['TOTAL LEUCOCYTES COUNT',\n",
    "'NEUTROPHILS',\n",
    "'LYMPHOCYTE PERCENTAGE',\n",
    "'MONOCYTES',\n",
    "'EOSINOPHILS',\n",
    "'BASOPHILS',\n",
    "'IMMATURE GRANULOCYTE PERCENTAGE(IG%)',\n",
    "'NEUTROPHILS - ABSOLUTE COUNT',\n",
    "'LYMPHOCYTES - ABSOLUTE COUNT',\n",
    "'MONOCYTES - ABSOLUTE COUNT',\n",
    "'BASOPHILS - ABSOLUTE COUNT',\n",
    "'EOSINOPHILS - ABSOLUTE COUNT',\n",
    "'IMMATURE GRANULOCYTES(IG)',\n",
    "'TOTAL RBC',\n",
    "'HEMOGLOBIN',\n",
    "'HEMATOCRIT(PCV)',\n",
    "'MEAN CORPUSCULAR VOLUME(MCV)',\n",
    "'MEAN CORPUSCULAR HEMOGLOBIN(MCH)',\n",
    "'MEAN CORP.HEMO.CONC(MCHC)',\n",
    "'RED CELL DISTRIBUTION WIDTH - SD(RDW-SD)',\n",
    "'RED CELL DISTRIBUTION WIDTH (RDW-CV)',\n",
    "'PLATELET DISTRIBUTION WIDTH(PDW)',\n",
    "'MEAN PLATELET VOLUME(MPV)',\n",
    "'PLATELET COUNT',\n",
    "'PLATELET TO LARGE CELL RATIO(PLCR)',\n",
    "'PLATELETCRIT(PCT)',\n",
    "'IRON',\n",
    "'TOTAL IRON BINDING CAPACITY (TIBC)',\n",
    "'TRANSFERRIN SATURATION',\n",
    "'ALKALINE PHOSPHATASE',\n",
    "'BILIRUBIN - TOTAL',\n",
    "'BILIRUBIN -DIRECT',\n",
    "'BILIRUBIN (INDIRECT)',\n",
    "'GAMMA GLUTAMYL TRANSFERASE (GGT)',\n",
    "'ASPARTATE AMINOTRANSFERASE (SGOT )',\n",
    "'ALANINE TRANSAMINASE (SGPT)',\n",
    "'PROTEIN - TOTAL',\n",
    "'ALBUMIN - SERUM',\n",
    "'SERUM ALB/GLOBULIN RATIO\t',\n",
    "'SERUM GLOBULIN',\n",
    "'TOTAL CHOLESTEROL',\n",
    "'HDL CHOLESTEROL - DIRECT',\n",
    "'LDL CHOLESTEROL - DIRECT',\n",
    "'TRIGLYCERIDES',\n",
    "'TC/ HDL CHOLESTEROL RATIO',\n",
    "'LDL / HDL RATIO',\n",
    "'VLDL CHOLESTEROL',\n",
    "'NON-HDL CHOLESTEROL',\n",
    "'TOTAL TRIIODOTHYRONINE (T3)',\n",
    "'TOTAL THYROXINE',\n",
    "'THYROID STIMULATING HORMONE',\n",
    "'BLOOD UREA NITROGEN (BUN)',\n",
    "'CREATININE - SERUM',\n",
    "'BUN / SR.CREATININE RATIO',\n",
    "'CALCIUM',\n",
    "'URIC ACID',\n",
    "'EST. GLOMERULAR FILTRATION RATE',\n",
    "'Vitamin',\n",
    "]"
   ]
  },
  {
   "cell_type": "code",
   "execution_count": 41,
   "metadata": {},
   "outputs": [],
   "source": [
    "# Wordlist to Delete Useless data from the list\n",
    "stopwords = ['COUNT','X103pL','X103/pL','-','4.0-10.0','ABSOLUTE','X103/uL','2.0-7.0','1.0-3.0','%',\n",
    "            'PERCENTAGE','20-40','PERCENTAGE(IG%)','0-0.5','IMMATURE', '40-80','0.0-6.0','0.0-6.0','0-0.1','mg/dl',\n",
    "            '<2','0-10','<','>', 'X', '103', '/', 'pL', '0.2-1','X1046/pL', '<0.01','g/dL', '13-17','fl', '83-101',\n",
    "            'pq', '27-32','g/dL', '31.5-34.5','0-0.3','40-50','fL', '39-46','11.6-14','9.6-15.2','4.5-5.5','g/dl',\n",
    "           'DIRECT','PHOTOMETRY','CALCULATED','(eGFR)', 'Ratio', '9:1-23:1', '(mg/dl)', 'HDL', 'LDL', 'TRIGLYCERIDES',\n",
    "             'mL/min/1.73', 'm2','uIU/ml', '0.3-5.5','85-130','35-80','125-200','gm/dL', '2.5-3.4','u/|', '<35','(',')',\n",
    "            'u/I', '<55','gm/dl', '3.2-4.8''5.7-8.2','6.5-12','19.7-42.4','0.19-0.39','0.3-1.2','0-0.9','5.7-8.2',\n",
    "            '3.2-4.8','3-5', 'ng/dl', '60-200','ug/dl', '4.5-12','7-25','0.6-1.1','8.8-10.6','-7.3','5-40','U/L','1.5-3.5',\n",
    "            'RATIO','150-400','4.0-10.0','25-200','B12 pg/mL 911','B12' ,'pg/mL' ,'911',]"
   ]
  },
  {
   "cell_type": "code",
   "execution_count": 78,
   "metadata": {},
   "outputs": [
    {
     "ename": "AttributeError",
     "evalue": "'str' object has no attribute 'append'",
     "output_type": "error",
     "traceback": [
      "\u001b[0;31m---------------------------------------------------------------------------\u001b[0m",
      "\u001b[0;31mAttributeError\u001b[0m                            Traceback (most recent call last)",
      "\u001b[0;32m<ipython-input-78-fcedceadae96>\u001b[0m in \u001b[0;36m<module>\u001b[0;34m\u001b[0m\n\u001b[1;32m     16\u001b[0m     \u001b[0;32melse\u001b[0m\u001b[0;34m:\u001b[0m\u001b[0;34m\u001b[0m\u001b[0;34m\u001b[0m\u001b[0m\n\u001b[1;32m     17\u001b[0m         \u001b[0mtext\u001b[0m \u001b[0;34m=\u001b[0m \u001b[0mlistToString\u001b[0m\u001b[0;34m(\u001b[0m\u001b[0mtext\u001b[0m\u001b[0;34m)\u001b[0m\u001b[0;34m\u001b[0m\u001b[0;34m\u001b[0m\u001b[0m\n\u001b[0;32m---> 18\u001b[0;31m         \u001b[0mtext1\u001b[0m\u001b[0;34m.\u001b[0m\u001b[0mappend\u001b[0m\u001b[0;34m(\u001b[0m\u001b[0mtext\u001b[0m\u001b[0;34m)\u001b[0m\u001b[0;34m\u001b[0m\u001b[0;34m\u001b[0m\u001b[0m\n\u001b[0m\u001b[1;32m     19\u001b[0m         \u001b[0mtext1\u001b[0m \u001b[0;34m=\u001b[0m \u001b[0mlistToString\u001b[0m\u001b[0;34m(\u001b[0m\u001b[0mtext1\u001b[0m\u001b[0;34m)\u001b[0m\u001b[0;34m\u001b[0m\u001b[0;34m\u001b[0m\u001b[0m\n\u001b[1;32m     20\u001b[0m \u001b[0;34m\u001b[0m\u001b[0m\n",
      "\u001b[0;31mAttributeError\u001b[0m: 'str' object has no attribute 'append'"
     ]
    }
   ],
   "source": [
    "from PyPDF2 import PdfFileReader, PdfFileWriter\n",
    " \n",
    "file_path = 'a6.pdf'\n",
    "pdf = PdfFileReader(file_path)\n",
    "text1 =[]\n",
    "for page_num in range(pdf.numPages):\n",
    "    #print('Page: {0}'.format(page_num))\n",
    "    pageObj = pdf.getPage(page_num)\n",
    "\n",
    "    try: \n",
    "        txt = pageObj.extractText()\n",
    "        #print(txt)\n",
    "#            print(''.center(100, '-'))\n",
    "    except:\n",
    "        pass\n",
    "    else:\n",
    "        text = listToString(text)  \n",
    "        text1.append(text)\n",
    "        text1 = listToString(text1)\n",
    "\n"
   ]
  },
  {
   "cell_type": "code",
   "execution_count": 71,
   "metadata": {},
   "outputs": [
    {
     "data": {
      "text/plain": [
       "<_io.TextIOWrapper name='Lecture Note.txt' mode='w' encoding='UTF-8'>"
      ]
     },
     "execution_count": 71,
     "metadata": {},
     "output_type": "execute_result"
    }
   ],
   "source": []
  },
  {
   "cell_type": "code",
   "execution_count": 67,
   "metadata": {},
   "outputs": [],
   "source": [
    "# Main function to collect the data\n",
    "\n",
    "data = []\n",
    "for row in txt.split('\\n'):\n",
    "    for word in list(word_list):\n",
    "        if row.startswith(word):\n",
    "            word = row.split()\n",
    "            word = word\n",
    "            for word_name in list(word):  \n",
    "                if word_name in stopwords:\n",
    "\n",
    "                    word.remove(word_name)\n",
    " \n",
    "            for i in word:\n",
    "                if  solve(i):\n",
    "                    null = i\n",
    "                    word.remove(null)\n",
    "                    i = float(i)\n",
    "            \n",
    "            word = [x for x in word if not isinstance(x, int)]   \n",
    "            word = [' '.join(word)]\n",
    "            print(word)\n",
    "            word.append(i)\n",
    "            #word.remove(str(i))\n",
    "            print(word)\n",
    "            data.append(word)"
   ]
  },
  {
   "cell_type": "code",
   "execution_count": 68,
   "metadata": {},
   "outputs": [
    {
     "data": {
      "text/plain": [
       "[]"
      ]
     },
     "execution_count": 68,
     "metadata": {},
     "output_type": "execute_result"
    }
   ],
   "source": [
    "data"
   ]
  },
  {
   "cell_type": "code",
   "execution_count": null,
   "metadata": {},
   "outputs": [],
   "source": []
  }
 ],
 "metadata": {
  "kernelspec": {
   "display_name": "Python 3",
   "language": "python",
   "name": "python3"
  },
  "language_info": {
   "codemirror_mode": {
    "name": "ipython",
    "version": 3
   },
   "file_extension": ".py",
   "mimetype": "text/x-python",
   "name": "python",
   "nbconvert_exporter": "python",
   "pygments_lexer": "ipython3",
   "version": "3.8.3"
  }
 },
 "nbformat": 4,
 "nbformat_minor": 4
}
