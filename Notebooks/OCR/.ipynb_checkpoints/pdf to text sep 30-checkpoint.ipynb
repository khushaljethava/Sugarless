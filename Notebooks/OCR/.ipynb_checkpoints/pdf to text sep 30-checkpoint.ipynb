{
 "cells": [
  {
   "cell_type": "code",
   "execution_count": 9,
   "metadata": {},
   "outputs": [],
   "source": [
    "import PyPDF2\n",
    "pdffileobj=open('a6.pdf','rb')\n",
    "pdfreader=PyPDF2.PdfFileReader(pdffileobj)\n",
    "x=pdfreader.numPages\n",
    "pageobj=pdfreader.getPage(0-x)\n",
    "text=pageobj.extractText()\n",
    "\n",
    "file1=open(r\"1.txt\",\"a\")\n",
    "file1.writelines(text)\n",
    "file1.close()"
   ]
  },
  {
   "cell_type": "code",
   "execution_count": 10,
   "metadata": {},
   "outputs": [
    {
     "data": {
      "text/plain": [
       "'TEST NAMEUNITSTECHNOLOGYHbA1c - (HPLC - NGSP Certified)NAME SELFMR SRIKANTH (38Y/M)REF. BYTEST ASKEDHBA,HEMOGRAM - 6 PART (DIFF):::SAMPLE COLLECTED AT   :(5311169953),PRABHU CLINICAL LABORATORY,DR.YEKKALA RAMAKRISHNA HOSPITAL RAMARAOPETA NARSIPATNAM 531116,531116ThyrocareD-37/1,TTC MIDC,Turbhe,Navi Mumbai-400 703VALUEPROCESSED AT :H.P.L.C%8.3Below 5.7%   : Normal5.7% - 6.4% : Prediabetic>=6.5%        : Diabetic   Reference Range: As per ADA GuidelinesBelow 6.5% : Good Control6.5% - 7%  : Fair Control7.0% - 8%  : Unsatisfactory Control>8%          : Poor ControlGuidance For Known DiabeticsReference Range :Method :Fully Automated H.P.L.C. using Biorad Variant II Turbo, NGSP Certified.AVERAGE BLOOD GLUCOSE (ABG)CALCULATEDmg/dl19290 - 120 mg/dl   : Good Control121 - 150 mg/dl : Fair Control151 - 180 mg/dl : Unsatisfactory Control> 180 mg/dl      : Poor ControlReference Range :Method :Derived from HBA1c  valuesPlease correlate with clinical conditions. EDTA28 Aug 2019 08:2527 Aug 2019 22:5026 Aug 2019 18:00::::Sample TypeReport  Released on (RRT)Sample Received on (SRT)Sample Collected on (SCT)Dr.Caesar Sengupta MD(Micro)Dr.Prachi Sinkar MD(Path)M9261080:Barcode:2708040370/A6750LabcodePage : 1 of 9'"
      ]
     },
     "execution_count": 10,
     "metadata": {},
     "output_type": "execute_result"
    }
   ],
   "source": [
    "text"
   ]
  },
  {
   "cell_type": "code",
   "execution_count": 6,
   "metadata": {},
   "outputs": [],
   "source": [
    "import pdftotext\n",
    "# Load your PDF\n",
    "with open(\"a6.pdf\", \"rb\") as f:\n",
    "    pdf = pdftotext.PDF(f)\n",
    "\n",
    "for page in pdf:\n",
    "    text = page\n",
    " # Save all text to a txt file.\n",
    "#with open('output.txt', 'w') as f:\n",
    " #   f.write(\"\\n\\n\".join(pdf))\n",
    "\n"
   ]
  },
  {
   "cell_type": "code",
   "execution_count": 5,
   "metadata": {},
   "outputs": [
    {
     "name": "stdout",
     "output_type": "stream",
     "text": [
      "<pdftotext.PDF object at 0x7fd1936fae70>\n"
     ]
    }
   ],
   "source": []
  },
  {
   "cell_type": "code",
   "execution_count": null,
   "metadata": {},
   "outputs": [],
   "source": []
  }
 ],
 "metadata": {
  "kernelspec": {
   "display_name": "Python 3",
   "language": "python",
   "name": "python3"
  },
  "language_info": {
   "codemirror_mode": {
    "name": "ipython",
    "version": 3
   },
   "file_extension": ".py",
   "mimetype": "text/x-python",
   "name": "python",
   "nbconvert_exporter": "python",
   "pygments_lexer": "ipython3",
   "version": "3.8.3"
  }
 },
 "nbformat": 4,
 "nbformat_minor": 4
}
