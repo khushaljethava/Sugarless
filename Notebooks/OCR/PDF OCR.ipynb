{
 "cells": [
  {
   "cell_type": "code",
   "execution_count": 29,
   "metadata": {},
   "outputs": [
    {
     "ename": "SyntaxError",
     "evalue": "invalid syntax (<ipython-input-29-d2f972c5e028>, line 4)",
     "output_type": "error",
     "traceback": [
      "\u001b[0;36m  File \u001b[0;32m\"<ipython-input-29-d2f972c5e028>\"\u001b[0;36m, line \u001b[0;32m4\u001b[0m\n\u001b[0;31m    first_page = pdf.pages[]\u001b[0m\n\u001b[0m                           ^\u001b[0m\n\u001b[0;31mSyntaxError\u001b[0m\u001b[0;31m:\u001b[0m invalid syntax\n"
     ]
    }
   ],
   "source": [
    "import pandas as pd\n",
    "import pdfplumber\n",
    "with pdfplumber.open(r'medical.pdf') as pdf:\n",
    "    first_page = pdf.pages[]\n",
    "    print(first_page.extract_text())\n",
    "    text = first_page.extract_text()"
   ]
  },
  {
   "cell_type": "code",
   "execution_count": 22,
   "metadata": {},
   "outputs": [],
   "source": [
    "x = pdf.pages"
   ]
  },
  {
   "cell_type": "code",
   "execution_count": 23,
   "metadata": {},
   "outputs": [
    {
     "data": {
      "text/plain": [
       "[<Page:1>,\n",
       " <Page:2>,\n",
       " <Page:3>,\n",
       " <Page:4>,\n",
       " <Page:5>,\n",
       " <Page:6>,\n",
       " <Page:7>,\n",
       " <Page:8>,\n",
       " <Page:9>,\n",
       " <Page:10>]"
      ]
     },
     "execution_count": 23,
     "metadata": {},
     "output_type": "execute_result"
    }
   ],
   "source": [
    "x"
   ]
  },
  {
   "cell_type": "code",
   "execution_count": 14,
   "metadata": {},
   "outputs": [],
   "source": [
    "for row in text.split('\\n'):\n",
    "    if row.startswith(\"Calcium\"):\n",
    "        name = row.split()"
   ]
  },
  {
   "cell_type": "code",
   "execution_count": 15,
   "metadata": {},
   "outputs": [
    {
     "data": {
      "text/plain": [
       "['Calcium', '9.0', 'mg/dL', '8.6', '-', '10.3']"
      ]
     },
     "execution_count": 15,
     "metadata": {},
     "output_type": "execute_result"
    }
   ],
   "source": [
    "name"
   ]
  },
  {
   "cell_type": "code",
   "execution_count": 16,
   "metadata": {},
   "outputs": [],
   "source": [
    "# Word List for Keywords to Fetch Info\n",
    "word_list = ['TOTAL LEUCOCYTES COUNT',\n",
    "'NEUTROPHILS',\n",
    "'LYMPHOCYTE PERCENTAGE',\n",
    "'MONOCYTES',\n",
    "'EOSINOPHILS',\n",
    "'BASOPHILS',\n",
    "'IMMATURE GRANULOCYTE PERCENTAGE(IG%)',\n",
    "'NEUTROPHILS - ABSOLUTE COUNT',\n",
    "'LYMPHOCYTES - ABSOLUTE COUNT',\n",
    "'MONOCYTES - ABSOLUTE COUNT',\n",
    "'BASOPHILS - ABSOLUTE COUNT',\n",
    "'EOSINOPHILS - ABSOLUTE COUNT',\n",
    "'IMMATURE GRANULOCYTES(IG)',\n",
    "'TOTAL RBC',\n",
    "'HEMOGLOBIN',\n",
    "'Calcium',\n",
    "'HEMATOCRIT(PCV)',\n",
    "'MEAN CORPUSCULAR VOLUME(MCV)',\n",
    "'MEAN CORPUSCULAR HEMOGLOBIN(MCH)',\n",
    "'MEAN CORP.HEMO.CONC(MCHC)',\n",
    "'RED CELL DISTRIBUTION WIDTH - SD(RDW-SD)',\n",
    "'RED CELL DISTRIBUTION WIDTH (RDW-CV)',\n",
    "'PLATELET DISTRIBUTION WIDTH(PDW)',\n",
    "'MEAN PLATELET VOLUME(MPV)',\n",
    "'PLATELET COUNT',\n",
    "'PLATELET TO LARGE CELL RATIO(PLCR)',\n",
    "'PLATELETCRIT(PCT)',\n",
    "'IRON',\n",
    "'TOTAL IRON BINDING CAPACITY (TIBC)',\n",
    "'TRANSFERRIN SATURATION',\n",
    "'ALKALINE PHOSPHATASE',\n",
    "'BILIRUBIN - TOTAL',\n",
    "'BILIRUBIN -DIRECT',\n",
    "'BILIRUBIN (INDIRECT)',\n",
    "'GAMMA GLUTAMYL TRANSFERASE (GGT)',\n",
    "'ASPARTATE AMINOTRANSFERASE (SGOT )',\n",
    "'ALANINE TRANSAMINASE (SGPT)',\n",
    "'PROTEIN - TOTAL',\n",
    "'ALBUMIN - SERUM',\n",
    "'SERUM ALB/GLOBULIN RATIO\t',\n",
    "'SERUM GLOBULIN',\n",
    "'TOTAL CHOLESTEROL',\n",
    "'HDL CHOLESTEROL - DIRECT',\n",
    "'LDL CHOLESTEROL - DIRECT',\n",
    "'TRIGLYCERIDES',\n",
    "'TC/ HDL CHOLESTEROL RATIO',\n",
    "'LDL / HDL RATIO',\n",
    "'VLDL CHOLESTEROL',\n",
    "'NON-HDL CHOLESTEROL',\n",
    "'TOTAL TRIIODOTHYRONINE (T3)',\n",
    "'TOTAL THYROXINE',\n",
    "'THYROID STIMULATING HORMONE',\n",
    "'BLOOD UREA NITROGEN (BUN)',\n",
    "'CREATININE - SERUM',\n",
    "'BUN / SR.CREATININE RATIO',\n",
    "'CALCIUM',\n",
    "'URIC ACID',\n",
    "'EST. GLOMERULAR FILTRATION RATE',\n",
    "]"
   ]
  },
  {
   "cell_type": "code",
   "execution_count": 17,
   "metadata": {},
   "outputs": [],
   "source": [
    "# Wordlist to Delete Useless data from the list\n",
    "stopwords = ['COUNT','X103pL','X103/pL','-','4.0-10.0','ABSOLUTE','X103/uL','2.0-7.0','1.0-3.0','%',\n",
    "            'PERCENTAGE','20-40','PERCENTAGE(IG%)','0-0.5','IMMATURE', '40-80','0.0-6.0','0.0-6.0','0-0.1','mg/dl',\n",
    "            '<2','0-10','<','>', 'X', '103', '/', 'pL', '0.2-1','X1046/pL', '<0.01','g/dL', '13-17','fl', '83-101',\n",
    "            'pq', '27-32','g/dL', '31.5-34.5','0-0.3','40-50','fL', '39-46','11.6-14','9.6-15.2','4.5-5.5','g/dl',\n",
    "           'DIRECT','PHOTOMETRY','CALCULATED','(eGFR)', 'Ratio', '9:1-23:1', '(mg/dl)', 'HDL', 'LDL', 'TRIGLYCERIDES',\n",
    "             'mL/min/1.73', 'm2','uIU/ml', '0.3-5.5','85-130','35-80','125-200','gm/dL', '2.5-3.4','u/|', '<35','(',')',\n",
    "            'u/I', '<55','gm/dl', '3.2-4.8''5.7-8.2','6.5-12','19.7-42.4','0.19-0.39','0.3-1.2','0-0.9','5.7-8.2',\n",
    "            '3.2-4.8','3-5', 'ng/dl', '60-200','ug/dl', '4.5-12','7-25','0.6-1.1','8.8-10.6','-7.3','5-40','U/L','1.5-3.5',\n",
    "            'RATIO','150-400','4.0-10.0','25-200']"
   ]
  },
  {
   "cell_type": "code",
   "execution_count": 18,
   "metadata": {},
   "outputs": [
    {
     "ename": "NameError",
     "evalue": "name 'solve' is not defined",
     "output_type": "error",
     "traceback": [
      "\u001b[0;31m---------------------------------------------------------------------------\u001b[0m",
      "\u001b[0;31mNameError\u001b[0m                                 Traceback (most recent call last)",
      "\u001b[0;32m<ipython-input-18-3ef66ef9e193>\u001b[0m in \u001b[0;36m<module>\u001b[0;34m\u001b[0m\n\u001b[1;32m     13\u001b[0m \u001b[0;34m\u001b[0m\u001b[0m\n\u001b[1;32m     14\u001b[0m             \u001b[0;32mfor\u001b[0m \u001b[0mi\u001b[0m \u001b[0;32min\u001b[0m \u001b[0mword\u001b[0m\u001b[0;34m:\u001b[0m\u001b[0;34m\u001b[0m\u001b[0;34m\u001b[0m\u001b[0m\n\u001b[0;32m---> 15\u001b[0;31m                 \u001b[0;32mif\u001b[0m  \u001b[0msolve\u001b[0m\u001b[0;34m(\u001b[0m\u001b[0mi\u001b[0m\u001b[0;34m)\u001b[0m\u001b[0;34m:\u001b[0m\u001b[0;34m\u001b[0m\u001b[0;34m\u001b[0m\u001b[0m\n\u001b[0m\u001b[1;32m     16\u001b[0m                     \u001b[0mnull\u001b[0m \u001b[0;34m=\u001b[0m \u001b[0mi\u001b[0m\u001b[0;34m\u001b[0m\u001b[0;34m\u001b[0m\u001b[0m\n\u001b[1;32m     17\u001b[0m                     \u001b[0mword\u001b[0m\u001b[0;34m.\u001b[0m\u001b[0mremove\u001b[0m\u001b[0;34m(\u001b[0m\u001b[0mnull\u001b[0m\u001b[0;34m)\u001b[0m\u001b[0;34m\u001b[0m\u001b[0;34m\u001b[0m\u001b[0m\n",
      "\u001b[0;31mNameError\u001b[0m: name 'solve' is not defined"
     ]
    }
   ],
   "source": [
    "# Main function to collect the data\n",
    "\n",
    "data = []\n",
    "for row in text.split('\\n'):\n",
    "    for word in list(word_list):\n",
    "        if row.startswith(word):\n",
    "            word = row.split()\n",
    "            word = word\n",
    "            for word_name in list(word):  \n",
    "                if word_name in stopwords:\n",
    "\n",
    "                    word.remove(word_name)\n",
    " \n",
    "            for i in word:\n",
    "                if  solve(i):\n",
    "                    null = i\n",
    "                    word.remove(null)\n",
    "                    i = float(i)\n",
    "            \n",
    "            word = [x for x in word if not isinstance(x, int)]   \n",
    "            word = [' '.join(word)]\n",
    "            print(word)\n",
    "            word.append(i)\n",
    "            #word.remove(str(i))\n",
    "            #print(word)\n",
    "            data.append(word)"
   ]
  },
  {
   "cell_type": "code",
   "execution_count": 19,
   "metadata": {},
   "outputs": [
    {
     "data": {
      "text/html": [
       "<div>\n",
       "<style scoped>\n",
       "    .dataframe tbody tr th:only-of-type {\n",
       "        vertical-align: middle;\n",
       "    }\n",
       "\n",
       "    .dataframe tbody tr th {\n",
       "        vertical-align: top;\n",
       "    }\n",
       "\n",
       "    .dataframe thead th {\n",
       "        text-align: right;\n",
       "    }\n",
       "</style>\n",
       "<table border=\"1\" class=\"dataframe\">\n",
       "  <thead>\n",
       "    <tr style=\"text-align: right;\">\n",
       "      <th></th>\n",
       "    </tr>\n",
       "  </thead>\n",
       "  <tbody>\n",
       "  </tbody>\n",
       "</table>\n",
       "</div>"
      ],
      "text/plain": [
       "Empty DataFrame\n",
       "Columns: []\n",
       "Index: []"
      ]
     },
     "execution_count": 19,
     "metadata": {},
     "output_type": "execute_result"
    }
   ],
   "source": [
    "df = pd.DataFrame(data)\n",
    "df.head()"
   ]
  },
  {
   "cell_type": "code",
   "execution_count": 1,
   "metadata": {},
   "outputs": [],
   "source": [
    "import PyPDF2"
   ]
  },
  {
   "cell_type": "code",
   "execution_count": 3,
   "metadata": {},
   "outputs": [],
   "source": [
    "pdfFileObj = open('a6.pdf', 'rb')"
   ]
  },
  {
   "cell_type": "code",
   "execution_count": 4,
   "metadata": {},
   "outputs": [],
   "source": [
    "pdfReader = PyPDF2.PdfFileReader(pdfFileObj)"
   ]
  },
  {
   "cell_type": "code",
   "execution_count": 11,
   "metadata": {},
   "outputs": [],
   "source": [
    "a =  pdfReader.numPages"
   ]
  },
  {
   "cell_type": "code",
   "execution_count": 12,
   "metadata": {},
   "outputs": [
    {
     "ename": "IndexError",
     "evalue": "list index out of range",
     "output_type": "error",
     "traceback": [
      "\u001b[0;31m---------------------------------------------------------------------------\u001b[0m",
      "\u001b[0;31mIndexError\u001b[0m                                Traceback (most recent call last)",
      "\u001b[0;32m<ipython-input-12-967bb8d0cae4>\u001b[0m in \u001b[0;36m<module>\u001b[0;34m\u001b[0m\n\u001b[0;32m----> 1\u001b[0;31m \u001b[0mpageObj\u001b[0m \u001b[0;34m=\u001b[0m \u001b[0mpdfReader\u001b[0m\u001b[0;34m.\u001b[0m\u001b[0mgetPage\u001b[0m\u001b[0;34m(\u001b[0m\u001b[0ma\u001b[0m\u001b[0;34m)\u001b[0m\u001b[0;34m\u001b[0m\u001b[0;34m\u001b[0m\u001b[0m\n\u001b[0m",
      "\u001b[0;32m~/.local/lib/python3.8/site-packages/PyPDF2/pdf.py\u001b[0m in \u001b[0;36mgetPage\u001b[0;34m(self, pageNumber)\u001b[0m\n\u001b[1;32m   1175\u001b[0m         \u001b[0;32mif\u001b[0m \u001b[0mself\u001b[0m\u001b[0;34m.\u001b[0m\u001b[0mflattenedPages\u001b[0m \u001b[0;34m==\u001b[0m \u001b[0;32mNone\u001b[0m\u001b[0;34m:\u001b[0m\u001b[0;34m\u001b[0m\u001b[0;34m\u001b[0m\u001b[0m\n\u001b[1;32m   1176\u001b[0m             \u001b[0mself\u001b[0m\u001b[0;34m.\u001b[0m\u001b[0m_flatten\u001b[0m\u001b[0;34m(\u001b[0m\u001b[0;34m)\u001b[0m\u001b[0;34m\u001b[0m\u001b[0;34m\u001b[0m\u001b[0m\n\u001b[0;32m-> 1177\u001b[0;31m         \u001b[0;32mreturn\u001b[0m \u001b[0mself\u001b[0m\u001b[0;34m.\u001b[0m\u001b[0mflattenedPages\u001b[0m\u001b[0;34m[\u001b[0m\u001b[0mpageNumber\u001b[0m\u001b[0;34m]\u001b[0m\u001b[0;34m\u001b[0m\u001b[0;34m\u001b[0m\u001b[0m\n\u001b[0m\u001b[1;32m   1178\u001b[0m \u001b[0;34m\u001b[0m\u001b[0m\n\u001b[1;32m   1179\u001b[0m     namedDestinations = property(lambda self:\n",
      "\u001b[0;31mIndexError\u001b[0m: list index out of range"
     ]
    }
   ],
   "source": []
  },
  {
   "cell_type": "code",
   "execution_count": 9,
   "metadata": {},
   "outputs": [
    {
     "data": {
      "text/plain": [
       "'ThyrocareD-37/1,TTC MIDC,Turbhe,Navi Mumbai-400 703PROCESSED AT :NAME SELFMR SRIKANTH (38Y/M)REF. BYTEST ASKEDAAROGYAM B:::SAMPLE COLLECTED AT   :UNITSVALUETEST NAMETECHNOLOGYNORMAL RANGE(5311169953),PRABHU CLINICAL LABORATORY,DR.YEKKALA RAMAKRISHNA HOSPITAL RAMARAOPETA NARSIPATNAM 531116,531116ALKALINE PHOSPHATASEPHOTOMETRY45 - 129U/L 64.5BILIRUBIN - TOTALPHOTOMETRY0.3-1.2mg/dl 0.35BILIRUBIN -DIRECTPHOTOMETRY< 0.3mg/dl 0.08BILIRUBIN (INDIRECT)CALCULATED0-0.9mg/dl 0.27GAMMA GLUTAMYL TRANSFERASE (GGT)PHOTOMETRY< 55U/l 91.1ASPARTATE AMINOTRANSFERASE (SGOT )PHOTOMETRY< 35U/l 22.5ALANINE TRANSAMINASE (SGPT)PHOTOMETRY< 45U/l 21.4PROTEIN - TOTALPHOTOMETRY5.7-8.2gm/dl 6.6ALBUMIN - SERUMPHOTOMETRY3.2-4.8gm/dl 4.1SERUM ALB/GLOBULIN RATIOCALCULATED0.9 - 2Ratio 1.64SERUM GLOBULINPHOTOMETRY2.5-3.4gm/dL 2.5Please correlate with clinical conditions.Method :ALKP - MODIFIED IFCC METHODBILT - VANADATE OXIDATIONBILD - VANADATE OXIDATIONBILI - DERIVED FROM SERUM TOTAL AND DIRECT BILIRUBIN VALUESGGT - MODIFIED IFCC METHODSGOT - IFCC* WITHOUT PYRIDOXAL PHOSPHATE ACTIVATIONSGPT - IFCC* WITHOUT PYRIDOXAL PHOSPHATE ACTIVATIONPROT -   BIURET METHODSALB - ALBUMIN BCG¹METHOD (COLORIMETRIC ASSAY ENDPOINT)A/GR - DERIVED FROM SERUM ALBUMIN AND PROTEIN VALUESSEGB - DERIVED FROM SERUM ALBUMIN AND PROTEIN VALUESPage : 4 of 9SERUM28 Aug 2019 02:1027 Aug 2019 22:5326 Aug 2019 18:00::::Sample TypeReport  Released on (RRT)Sample Received on (SRT)Sample Collected on (SCT)N7212022:Barcode:2708040550/A6750LabcodeDr.Prachi Sinkar MD(Path)Dr.Caesar Sengupta MD(Micro)'"
      ]
     },
     "execution_count": 9,
     "metadata": {},
     "output_type": "execute_result"
    }
   ],
   "source": [
    "pageObj.extractText()"
   ]
  },
  {
   "cell_type": "code",
   "execution_count": null,
   "metadata": {},
   "outputs": [],
   "source": []
  }
 ],
 "metadata": {
  "kernelspec": {
   "display_name": "Python 3",
   "language": "python",
   "name": "python3"
  },
  "language_info": {
   "codemirror_mode": {
    "name": "ipython",
    "version": 3
   },
   "file_extension": ".py",
   "mimetype": "text/x-python",
   "name": "python",
   "nbconvert_exporter": "python",
   "pygments_lexer": "ipython3",
   "version": "3.8.3"
  }
 },
 "nbformat": 4,
 "nbformat_minor": 4
}
